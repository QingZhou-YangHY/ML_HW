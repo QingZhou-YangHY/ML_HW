{
 "cells": [
  {
   "cell_type": "code",
   "execution_count": 1,
   "metadata": {
    "_cell_guid": "b1076dfc-b9ad-4769-8c92-a6c4dae69d19",
    "_uuid": "8f2839f25d086af736a60e9eeb907d3b93b6e0e5",
    "collapsed": true,
    "execution": {
     "iopub.execute_input": "2025-07-02T05:18:33.557537Z",
     "iopub.status.busy": "2025-07-02T05:18:33.557256Z",
     "iopub.status.idle": "2025-07-02T05:20:46.407448Z",
     "shell.execute_reply": "2025-07-02T05:20:46.406531Z",
     "shell.execute_reply.started": "2025-07-02T05:18:33.557508Z"
    },
    "jupyter": {
     "outputs_hidden": true
    },
    "trusted": true
   },
   "outputs": [
    {
     "name": "stdout",
     "output_type": "stream",
     "text": [
      "Get:1 http://security.ubuntu.com/ubuntu jammy-security InRelease [129 kB]\n",
      "Get:2 https://cloud.r-project.org/bin/linux/ubuntu jammy-cran40/ InRelease [3,632 B]                \u001b[0m\n",
      "Get:3 https://developer.download.nvidia.com/compute/cuda/repos/ubuntu2204/x86_64  InRelease [1,581 B][0m\u001b[33m\n",
      "Get:4 https://r2u.stat.illinois.edu/ubuntu jammy InRelease [6,555 B]                                \u001b[0m\u001b[33m\n",
      "Hit:5 http://archive.ubuntu.com/ubuntu jammy InRelease                            \u001b[0m              \u001b[0m\u001b[33m\n",
      "Get:6 http://archive.ubuntu.com/ubuntu jammy-updates InRelease [128 kB]           \n",
      "Get:7 https://cloud.r-project.org/bin/linux/ubuntu jammy-cran40/ Packages [79.8 kB]         \u001b[0m\u001b[33m\n",
      "Get:8 https://developer.download.nvidia.com/compute/cuda/repos/ubuntu2204/x86_64  Packages [1,802 kB]33m\n",
      "Get:9 http://security.ubuntu.com/ubuntu jammy-security/universe amd64 Packages [1,257 kB] \u001b[0m\u001b[33m\u001b[33m\n",
      "Get:10 https://ppa.launchpadcontent.net/deadsnakes/ppa/ubuntu jammy InRelease [18.1 kB]  \u001b[0m\u001b[33m  \u001b[0m\u001b[33m\u001b[33m\n",
      "Get:11 http://security.ubuntu.com/ubuntu jammy-security/restricted amd64 Packages [4,755 kB]        \u001b[0m\u001b[33m\n",
      "Get:12 https://r2u.stat.illinois.edu/ubuntu jammy/main all Packages [9,072 kB]                      \u001b[0m\n",
      "Get:13 http://archive.ubuntu.com/ubuntu jammy-backports InRelease [127 kB]                          \u001b[0m\n",
      "Get:14 http://security.ubuntu.com/ubuntu jammy-security/main amd64 Packages [3,088 kB]              \u001b[0m\u001b[33m\n",
      "Get:15 https://ppa.launchpadcontent.net/graphics-drivers/ppa/ubuntu jammy InRelease [24.3 kB]       \u001b[0m\u001b[33m\n",
      "Get:16 https://ppa.launchpadcontent.net/ubuntugis/ppa/ubuntu jammy InRelease [24.6 kB]0m3m          \u001b[0m\u001b[33m\n",
      "Get:17 https://r2u.stat.illinois.edu/ubuntu jammy/main amd64 Packages [2,753 kB]                 \u001b[0m\u001b[33m\u001b[33m\n",
      "Get:18 http://archive.ubuntu.com/ubuntu jammy-updates/universe amd64 Packages [1,564 kB]\n",
      "Get:19 https://ppa.launchpadcontent.net/deadsnakes/ppa/ubuntu jammy/main amd64 Packages [33.2 kB]\n",
      "Get:20 https://ppa.launchpadcontent.net/graphics-drivers/ppa/ubuntu jammy/main amd64 Packages [46.9 kB]\u001b[33m\u001b[33m\u001b[33m\n",
      "Get:21 http://archive.ubuntu.com/ubuntu jammy-updates/main amd64 Packages [3,399 kB]            \u001b[0m\u001b[33m\u001b[33m\u001b[33m\n",
      "Get:22 https://ppa.launchpadcontent.net/ubuntugis/ppa/ubuntu jammy/main amd64 Packages [75.1 kB]\n",
      "Get:23 http://archive.ubuntu.com/ubuntu jammy-updates/restricted amd64 Packages [4,909 kB]       \u001b[0m\u001b[33m\n",
      "Get:24 http://archive.ubuntu.com/ubuntu jammy-backports/main amd64 Packages [83.2 kB]\n",
      "Get:25 http://archive.ubuntu.com/ubuntu jammy-backports/universe amd64 Packages [35.2 kB]\n",
      "Fetched 33.4 MB in 3s (11.8 MB/s)[33m                        \u001b[0m\u001b[33m\u001b[33m\u001b[33m\u001b[33m\u001b[33m\u001b[33m\n",
      "Reading package lists... Done\n",
      "Building dependency tree... Done\n",
      "Reading state information... Done\n",
      "199 packages can be upgraded. Run 'apt list --upgradable' to see them.\n",
      "\u001b[1;33mW: \u001b[0mSkipping acquire of configured file 'main/source/Sources' as repository 'https://r2u.stat.illinois.edu/ubuntu jammy InRelease' does not seem to provide it (sources.list entry misspelt?)\u001b[0m\n",
      "Reading package lists... Done\n",
      "Building dependency tree... Done\n",
      "Reading state information... Done\n",
      "\u001b[1;31mE: \u001b[0mUnable to locate package python-opengl\u001b[0m\n",
      "\u001b[2K   \u001b[90m━━━━━━━━━━━━━━━━━━━━━━━━━━━━━━━━━━━━━━━━\u001b[0m \u001b[32m1.9/1.9 MB\u001b[0m \u001b[31m23.5 MB/s\u001b[0m eta \u001b[36m0:00:00\u001b[0m00:01\u001b[0m00:01\u001b[0m\n",
      "\u001b[?25hCollecting box2d==2.3.2\n",
      "  Downloading Box2D-2.3.2.tar.gz (427 kB)\n",
      "\u001b[2K     \u001b[90m━━━━━━━━━━━━━━━━━━━━━━━━━━━━━━━━━━━━━━━━\u001b[0m \u001b[32m427.9/427.9 kB\u001b[0m \u001b[31m6.9 MB/s\u001b[0m eta \u001b[36m0:00:00\u001b[0mta \u001b[36m0:00:01\u001b[0m\n",
      "\u001b[?25h  Preparing metadata (setup.py) ... \u001b[?25l\u001b[?25hdone\n",
      "Requirement already satisfied: gym==0.25.2 in /usr/local/lib/python3.11/dist-packages (from gym[box2d]==0.25.2) (0.25.2)\n",
      "Collecting box2d-py\n",
      "  Downloading box2d-py-2.3.8.tar.gz (374 kB)\n",
      "\u001b[2K     \u001b[90m━━━━━━━━━━━━━━━━━━━━━━━━━━━━━━━━━━━━━━━━\u001b[0m \u001b[32m374.5/374.5 kB\u001b[0m \u001b[31m17.8 MB/s\u001b[0m eta \u001b[36m0:00:00\u001b[0m\n",
      "\u001b[?25h  Preparing metadata (setup.py) ... \u001b[?25l\u001b[?25hdone\n",
      "Collecting pyvirtualdisplay\n",
      "  Downloading PyVirtualDisplay-3.0-py3-none-any.whl.metadata (943 bytes)\n",
      "Requirement already satisfied: tqdm in /usr/local/lib/python3.11/dist-packages (4.67.1)\n",
      "Collecting numpy==1.22.4\n",
      "  Downloading numpy-1.22.4.zip (11.5 MB)\n",
      "\u001b[2K     \u001b[90m━━━━━━━━━━━━━━━━━━━━━━━━━━━━━━━━━━━━━━━━\u001b[0m \u001b[32m11.5/11.5 MB\u001b[0m \u001b[31m96.9 MB/s\u001b[0m eta \u001b[36m0:00:00\u001b[0m:00:01\u001b[0m00:01\u001b[0m\n",
      "\u001b[?25h  Installing build dependencies ... \u001b[?25l\u001b[?25hdone\n",
      "  Getting requirements to build wheel ... \u001b[?25l\u001b[?25hdone\n",
      "  Preparing metadata (pyproject.toml) ... \u001b[?25l\u001b[?25hdone\n",
      "Requirement already satisfied: cloudpickle>=1.2.0 in /usr/local/lib/python3.11/dist-packages (from gym==0.25.2->gym[box2d]==0.25.2) (3.1.1)\n",
      "Requirement already satisfied: gym-notices>=0.0.4 in /usr/local/lib/python3.11/dist-packages (from gym==0.25.2->gym[box2d]==0.25.2) (0.0.8)\n",
      "Collecting box2d-py\n",
      "  Downloading box2d-py-2.3.5.tar.gz (374 kB)\n",
      "\u001b[2K     \u001b[90m━━━━━━━━━━━━━━━━━━━━━━━━━━━━━━━━━━━━━━━━\u001b[0m \u001b[32m374.4/374.4 kB\u001b[0m \u001b[31m13.6 MB/s\u001b[0m eta \u001b[36m0:00:00\u001b[0m\n",
      "\u001b[?25h  Preparing metadata (setup.py) ... \u001b[?25l\u001b[?25hdone\n",
      "Collecting pygame==2.1.0 (from gym[box2d]==0.25.2)\n",
      "  Downloading pygame-2.1.0.tar.gz (5.8 MB)\n",
      "\u001b[2K     \u001b[90m━━━━━━━━━━━━━━━━━━━━━━━━━━━━━━━━━━━━━━━━\u001b[0m \u001b[32m5.8/5.8 MB\u001b[0m \u001b[31m89.2 MB/s\u001b[0m eta \u001b[36m0:00:00\u001b[0m:00:01\u001b[0m\n",
      "\u001b[?25h  \u001b[1;31merror\u001b[0m: \u001b[1msubprocess-exited-with-error\u001b[0m\n",
      "  \n",
      "  \u001b[31m×\u001b[0m \u001b[32mpython setup.py egg_info\u001b[0m did not run successfully.\n",
      "  \u001b[31m│\u001b[0m exit code: \u001b[1;36m1\u001b[0m\n",
      "  \u001b[31m╰─>\u001b[0m See above for output.\n",
      "  \n",
      "  \u001b[1;35mnote\u001b[0m: This error originates from a subprocess, and is likely not a problem with pip.\n",
      "  Preparing metadata (setup.py) ... \u001b[?25l\u001b[?25herror\n",
      "\u001b[1;31merror\u001b[0m: \u001b[1mmetadata-generation-failed\u001b[0m\n",
      "\n",
      "\u001b[31m×\u001b[0m Encountered error while generating package metadata.\n",
      "\u001b[31m╰─>\u001b[0m See above for output.\n",
      "\n",
      "\u001b[1;35mnote\u001b[0m: This is an issue with the package mentioned above, not pip.\n",
      "\u001b[1;36mhint\u001b[0m: See above for details.\n",
      "Collecting box2d==2.3.2\n",
      "  Using cached Box2D-2.3.2.tar.gz (427 kB)\n",
      "  Preparing metadata (setup.py) ... \u001b[?25l\u001b[?25hdone\n",
      "Collecting box2d-kengz\n",
      "  Downloading Box2D-kengz-2.3.3.tar.gz (425 kB)\n",
      "\u001b[2K     \u001b[90m━━━━━━━━━━━━━━━━━━━━━━━━━━━━━━━━━━━━━━━━\u001b[0m \u001b[32m425.4/425.4 kB\u001b[0m \u001b[31m8.1 MB/s\u001b[0m eta \u001b[36m0:00:00\u001b[0mta \u001b[36m0:00:01\u001b[0m\n",
      "\u001b[?25h  Preparing metadata (setup.py) ... \u001b[?25l\u001b[?25hdone\n",
      "Building wheels for collected packages: box2d, box2d-kengz\n",
      "  Building wheel for box2d (setup.py) ... \u001b[?25l\u001b[?25hdone\n",
      "  Created wheel for box2d: filename=Box2D-2.3.2-cp311-cp311-linux_x86_64.whl size=2397600 sha256=b1c7557d0523c45ff38fb401d45df2eb2450141c30e167a5f5a8085e45d68067\n",
      "  Stored in directory: /root/.cache/pip/wheels/e3/34/dd/9901b8d6cf4eb85dc3e843cb2f24cfc9ab0c2e76c5f1334d1d\n",
      "  Building wheel for box2d-kengz (setup.py) ... \u001b[?25l\u001b[?25hdone\n",
      "  Created wheel for box2d-kengz: filename=Box2D_kengz-2.3.3-cp311-cp311-linux_x86_64.whl size=2397582 sha256=ae45a393d222bc0f2bd6208591bcb1f822238fb7a798060ee365f11fac09b520\n",
      "  Stored in directory: /root/.cache/pip/wheels/52/6a/a7/b49372347210a86f54c6603329c24c48dba26c98586ae80fbb\n",
      "Successfully built box2d box2d-kengz\n",
      "Installing collected packages: box2d-kengz, box2d\n",
      "Successfully installed box2d-2.3.2 box2d-kengz-2.3.3\n"
     ]
    }
   ],
   "source": [
    "!apt update\n",
    "!apt install python-opengl xvfb -y\n",
    "!pip install -q swig\n",
    "!pip install box2d==2.3.2 gym[box2d]==0.25.2 box2d-py pyvirtualdisplay tqdm numpy==1.22.4 \n",
    "!pip install box2d==2.3.2 box2d-kengz\n",
    "!pip freeze > requirements.txt"
   ]
  },
  {
   "cell_type": "code",
   "execution_count": 5,
   "metadata": {
    "execution": {
     "iopub.execute_input": "2025-07-02T05:22:36.341308Z",
     "iopub.status.busy": "2025-07-02T05:22:36.340437Z",
     "iopub.status.idle": "2025-07-02T05:22:39.627922Z",
     "shell.execute_reply": "2025-07-02T05:22:39.627118Z",
     "shell.execute_reply.started": "2025-07-02T05:22:36.341246Z"
    },
    "trusted": true
   },
   "outputs": [
    {
     "name": "stdout",
     "output_type": "stream",
     "text": [
      "Requirement already satisfied: pyvirtualdisplay in /usr/local/lib/python3.11/dist-packages (3.0)\n"
     ]
    }
   ],
   "source": [
    "!pip install pyvirtualdisplay"
   ]
  },
  {
   "cell_type": "code",
   "execution_count": 6,
   "metadata": {
    "execution": {
     "iopub.execute_input": "2025-07-02T05:22:44.447988Z",
     "iopub.status.busy": "2025-07-02T05:22:44.447636Z",
     "iopub.status.idle": "2025-07-02T05:22:53.680457Z",
     "shell.execute_reply": "2025-07-02T05:22:53.679754Z",
     "shell.execute_reply.started": "2025-07-02T05:22:44.447946Z"
    },
    "trusted": true
   },
   "outputs": [],
   "source": [
    "%%capture\n",
    "from pyvirtualdisplay import Display\n",
    "virtual_display = Display(visible=0, size=(1400, 900))\n",
    "virtual_display.start()\n",
    "\n",
    "%matplotlib inline\n",
    "import matplotlib.pyplot as plt\n",
    "\n",
    "from IPython import display\n",
    "\n",
    "import numpy as np\n",
    "import torch\n",
    "import torch.nn as nn\n",
    "import torch.optim as optim\n",
    "import torch.nn.functional as F\n",
    "from torch.distributions import Categorical\n",
    "from tqdm.notebook import tqdm"
   ]
  },
  {
   "cell_type": "code",
   "execution_count": 8,
   "metadata": {
    "execution": {
     "iopub.execute_input": "2025-07-02T05:23:17.482167Z",
     "iopub.status.busy": "2025-07-02T05:23:17.481865Z",
     "iopub.status.idle": "2025-07-02T05:23:17.487025Z",
     "shell.execute_reply": "2025-07-02T05:23:17.486055Z",
     "shell.execute_reply.started": "2025-07-02T05:23:17.482144Z"
    },
    "trusted": true
   },
   "outputs": [],
   "source": [
    "seed = 2023 # Do not change this\n",
    "def fix(env, seed):\n",
    "  env.seed(seed)\n",
    "  env.action_space.seed(seed)\n",
    "  torch.backends.cudnn.deterministic = True\n",
    "  torch.backends.cudnn.benchmark = False\n",
    "  np.random.seed(seed)\n",
    "  torch.manual_seed(seed)\n",
    "  if torch.cuda.is_available():\n",
    "      torch.cuda.manual_seed_all(seed)"
   ]
  },
  {
   "cell_type": "code",
   "execution_count": 11,
   "metadata": {
    "collapsed": true,
    "execution": {
     "iopub.execute_input": "2025-07-02T05:24:15.034000Z",
     "iopub.status.busy": "2025-07-02T05:24:15.033689Z",
     "iopub.status.idle": "2025-07-02T05:24:20.451997Z",
     "shell.execute_reply": "2025-07-02T05:24:20.450986Z",
     "shell.execute_reply.started": "2025-07-02T05:24:15.033981Z"
    },
    "jupyter": {
     "outputs_hidden": true
    },
    "trusted": true
   },
   "outputs": [
    {
     "name": "stdout",
     "output_type": "stream",
     "text": [
      "Found existing installation: Box2D 2.3.2\n",
      "Uninstalling Box2D-2.3.2:\n",
      "  Successfully uninstalled Box2D-2.3.2\n",
      "\u001b[33mWARNING: Skipping box2d-py as it is not installed.\u001b[0m\u001b[33m\n",
      "\u001b[0mFound existing installation: Box2D-kengz 2.3.3\n",
      "Uninstalling Box2D-kengz-2.3.3:\n",
      "  Successfully uninstalled Box2D-kengz-2.3.3\n",
      "Collecting Box2D==2.3.10\n",
      "  Downloading Box2D-2.3.10-cp311-cp311-manylinux_2_17_x86_64.manylinux2014_x86_64.whl.metadata (573 bytes)\n",
      "Downloading Box2D-2.3.10-cp311-cp311-manylinux_2_17_x86_64.manylinux2014_x86_64.whl (3.7 MB)\n",
      "\u001b[2K   \u001b[90m━━━━━━━━━━━━━━━━━━━━━━━━━━━━━━━━━━━━━━━━\u001b[0m \u001b[32m3.7/3.7 MB\u001b[0m \u001b[31m37.1 MB/s\u001b[0m eta \u001b[36m0:00:00\u001b[0ma \u001b[36m0:00:01\u001b[0m\n",
      "\u001b[?25hInstalling collected packages: Box2D\n",
      "Successfully installed Box2D-2.3.10\n"
     ]
    }
   ],
   "source": [
    "!pip uninstall Box2D box2d box2d-py box2d-kengz -y  # 移除所有可能的冲突版本\n",
    "!pip install Box2D==2.3.10  # 安装兼容版本"
   ]
  },
  {
   "cell_type": "code",
   "execution_count": 12,
   "metadata": {
    "execution": {
     "iopub.execute_input": "2025-07-02T05:24:40.707532Z",
     "iopub.status.busy": "2025-07-02T05:24:40.706657Z",
     "iopub.status.idle": "2025-07-02T05:24:41.283341Z",
     "shell.execute_reply": "2025-07-02T05:24:41.282520Z",
     "shell.execute_reply.started": "2025-07-02T05:24:40.707499Z"
    },
    "trusted": true
   },
   "outputs": [],
   "source": [
    "%%capture\n",
    "import gym\n",
    "import random\n",
    "env = gym.make('LunarLander-v2')\n",
    "fix(env, seed) # fix the environment Do not revise this !!!"
   ]
  },
  {
   "cell_type": "code",
   "execution_count": 13,
   "metadata": {
    "collapsed": true,
    "execution": {
     "iopub.execute_input": "2025-07-02T05:25:00.084143Z",
     "iopub.status.busy": "2025-07-02T05:25:00.083823Z",
     "iopub.status.idle": "2025-07-02T05:25:00.088633Z",
     "shell.execute_reply": "2025-07-02T05:25:00.087807Z",
     "shell.execute_reply.started": "2025-07-02T05:25:00.084123Z"
    },
    "jupyter": {
     "outputs_hidden": true
    },
    "trusted": true
   },
   "outputs": [
    {
     "name": "stdout",
     "output_type": "stream",
     "text": [
      "Box([-1.5       -1.5       -5.        -5.        -3.1415927 -5.\n",
      " -0.        -0.       ], [1.5       1.5       5.        5.        3.1415927 5.        1.\n",
      " 1.       ], (8,), float32)\n"
     ]
    }
   ],
   "source": [
    "print(env.observation_space)"
   ]
  },
  {
   "cell_type": "code",
   "execution_count": 14,
   "metadata": {
    "execution": {
     "iopub.execute_input": "2025-07-02T05:25:13.254974Z",
     "iopub.status.busy": "2025-07-02T05:25:13.254327Z",
     "iopub.status.idle": "2025-07-02T05:25:13.259768Z",
     "shell.execute_reply": "2025-07-02T05:25:13.258741Z",
     "shell.execute_reply.started": "2025-07-02T05:25:13.254944Z"
    },
    "trusted": true
   },
   "outputs": [
    {
     "name": "stdout",
     "output_type": "stream",
     "text": [
      "Discrete(4)\n"
     ]
    }
   ],
   "source": [
    "print(env.action_space)"
   ]
  },
  {
   "cell_type": "code",
   "execution_count": 15,
   "metadata": {
    "execution": {
     "iopub.execute_input": "2025-07-02T05:25:48.664609Z",
     "iopub.status.busy": "2025-07-02T05:25:48.664263Z",
     "iopub.status.idle": "2025-07-02T05:25:48.670311Z",
     "shell.execute_reply": "2025-07-02T05:25:48.669525Z",
     "shell.execute_reply.started": "2025-07-02T05:25:48.664591Z"
    },
    "trusted": true
   },
   "outputs": [
    {
     "name": "stdout",
     "output_type": "stream",
     "text": [
      "[-0.00506535  1.413064   -0.5130838   0.09527162  0.00587628  0.11622101\n",
      "  0.          0.        ]\n"
     ]
    }
   ],
   "source": [
    "initial_state = env.reset()\n",
    "print(initial_state)"
   ]
  },
  {
   "cell_type": "code",
   "execution_count": 16,
   "metadata": {
    "execution": {
     "iopub.execute_input": "2025-07-02T05:25:53.818114Z",
     "iopub.status.busy": "2025-07-02T05:25:53.817826Z",
     "iopub.status.idle": "2025-07-02T05:25:53.822926Z",
     "shell.execute_reply": "2025-07-02T05:25:53.822013Z",
     "shell.execute_reply.started": "2025-07-02T05:25:53.818094Z"
    },
    "trusted": true
   },
   "outputs": [
    {
     "name": "stdout",
     "output_type": "stream",
     "text": [
      "1\n"
     ]
    }
   ],
   "source": [
    "random_action = env.action_space.sample()\n",
    "print(random_action)"
   ]
  },
  {
   "cell_type": "code",
   "execution_count": 20,
   "metadata": {
    "collapsed": true,
    "execution": {
     "iopub.execute_input": "2025-07-02T05:26:36.057420Z",
     "iopub.status.busy": "2025-07-02T05:26:36.057168Z",
     "iopub.status.idle": "2025-07-02T05:26:39.485629Z",
     "shell.execute_reply": "2025-07-02T05:26:39.484760Z",
     "shell.execute_reply.started": "2025-07-02T05:26:36.057396Z"
    },
    "jupyter": {
     "outputs_hidden": true
    },
    "trusted": true
   },
   "outputs": [
    {
     "name": "stdout",
     "output_type": "stream",
     "text": [
      "Requirement already satisfied: gym in /usr/local/lib/python3.11/dist-packages (0.26.2)\n",
      "Requirement already satisfied: numpy>=1.18.0 in /usr/local/lib/python3.11/dist-packages (from gym) (1.26.4)\n",
      "Requirement already satisfied: cloudpickle>=1.2.0 in /usr/local/lib/python3.11/dist-packages (from gym) (3.1.1)\n",
      "Requirement already satisfied: gym_notices>=0.0.4 in /usr/local/lib/python3.11/dist-packages (from gym) (0.0.8)\n",
      "Requirement already satisfied: mkl_fft in /usr/local/lib/python3.11/dist-packages (from numpy>=1.18.0->gym) (1.3.8)\n",
      "Requirement already satisfied: mkl_random in /usr/local/lib/python3.11/dist-packages (from numpy>=1.18.0->gym) (1.2.4)\n",
      "Requirement already satisfied: mkl_umath in /usr/local/lib/python3.11/dist-packages (from numpy>=1.18.0->gym) (0.1.1)\n",
      "Requirement already satisfied: mkl in /usr/local/lib/python3.11/dist-packages (from numpy>=1.18.0->gym) (2025.1.0)\n",
      "Requirement already satisfied: tbb4py in /usr/local/lib/python3.11/dist-packages (from numpy>=1.18.0->gym) (2022.1.0)\n",
      "Requirement already satisfied: mkl-service in /usr/local/lib/python3.11/dist-packages (from numpy>=1.18.0->gym) (2.4.1)\n",
      "Requirement already satisfied: intel-openmp<2026,>=2024 in /usr/local/lib/python3.11/dist-packages (from mkl->numpy>=1.18.0->gym) (2024.2.0)\n",
      "Requirement already satisfied: tbb==2022.* in /usr/local/lib/python3.11/dist-packages (from mkl->numpy>=1.18.0->gym) (2022.1.0)\n",
      "Requirement already satisfied: tcmlib==1.* in /usr/local/lib/python3.11/dist-packages (from tbb==2022.*->mkl->numpy>=1.18.0->gym) (1.3.0)\n",
      "Requirement already satisfied: intel-cmplr-lib-rt in /usr/local/lib/python3.11/dist-packages (from mkl_umath->numpy>=1.18.0->gym) (2024.2.0)\n",
      "Requirement already satisfied: intel-cmplr-lib-ur==2024.2.0 in /usr/local/lib/python3.11/dist-packages (from intel-openmp<2026,>=2024->mkl->numpy>=1.18.0->gym) (2024.2.0)\n"
     ]
    }
   ],
   "source": [
    "!pip install --upgrade gym"
   ]
  },
  {
   "cell_type": "code",
   "execution_count": 21,
   "metadata": {
    "execution": {
     "iopub.execute_input": "2025-07-02T05:26:42.933742Z",
     "iopub.status.busy": "2025-07-02T05:26:42.933423Z",
     "iopub.status.idle": "2025-07-02T05:26:42.939062Z",
     "shell.execute_reply": "2025-07-02T05:26:42.938188Z",
     "shell.execute_reply.started": "2025-07-02T05:26:42.933714Z"
    },
    "trusted": true
   },
   "outputs": [],
   "source": [
    "observation, reward, done, info = env.step(random_action)"
   ]
  },
  {
   "cell_type": "code",
   "execution_count": 22,
   "metadata": {
    "execution": {
     "iopub.execute_input": "2025-07-02T05:26:52.573363Z",
     "iopub.status.busy": "2025-07-02T05:26:52.572994Z",
     "iopub.status.idle": "2025-07-02T05:26:52.577993Z",
     "shell.execute_reply": "2025-07-02T05:26:52.577118Z",
     "shell.execute_reply.started": "2025-07-02T05:26:52.573342Z"
    },
    "trusted": true
   },
   "outputs": [
    {
     "name": "stdout",
     "output_type": "stream",
     "text": [
      "False\n"
     ]
    }
   ],
   "source": [
    "print(done)"
   ]
  },
  {
   "cell_type": "code",
   "execution_count": 23,
   "metadata": {
    "execution": {
     "iopub.execute_input": "2025-07-02T05:27:00.901832Z",
     "iopub.status.busy": "2025-07-02T05:27:00.901039Z",
     "iopub.status.idle": "2025-07-02T05:27:00.905622Z",
     "shell.execute_reply": "2025-07-02T05:27:00.904897Z",
     "shell.execute_reply.started": "2025-07-02T05:27:00.901806Z"
    },
    "trusted": true
   },
   "outputs": [
    {
     "name": "stdout",
     "output_type": "stream",
     "text": [
      "-1.5420554996710496\n"
     ]
    }
   ],
   "source": [
    "print(reward)"
   ]
  },
  {
   "cell_type": "code",
   "execution_count": 24,
   "metadata": {
    "execution": {
     "iopub.execute_input": "2025-07-02T05:27:09.041655Z",
     "iopub.status.busy": "2025-07-02T05:27:09.041371Z",
     "iopub.status.idle": "2025-07-02T05:27:25.099436Z",
     "shell.execute_reply": "2025-07-02T05:27:25.098303Z",
     "shell.execute_reply.started": "2025-07-02T05:27:09.041637Z"
    },
    "trusted": true
   },
   "outputs": [
    {
     "data": {
      "image/png": "[encoded data removed]",
      "text/plain": [
       "<Figure size 640x480 with 1 Axes>"
      ]
     },
     "metadata": {},
     "output_type": "display_data"
    }
   ],
   "source": [
    "env.reset()\n",
    "\n",
    "img = plt.imshow(env.render(mode='rgb_array'))\n",
    "\n",
    "done = False\n",
    "while not done:\n",
    "    action = env.action_space.sample()\n",
    "    observation, reward, done, _ = env.step(action)\n",
    "\n",
    "    img.set_data(env.render(mode='rgb_array'))\n",
    "    display.display(plt.gcf())\n",
    "    display.clear_output(wait=True)"
   ]
  },
  {
   "cell_type": "code",
   "execution_count": 25,
   "metadata": {
    "execution": {
     "iopub.execute_input": "2025-07-02T05:27:35.245526Z",
     "iopub.status.busy": "2025-07-02T05:27:35.244765Z",
     "iopub.status.idle": "2025-07-02T05:27:35.250330Z",
     "shell.execute_reply": "2025-07-02T05:27:35.249724Z",
     "shell.execute_reply.started": "2025-07-02T05:27:35.245495Z"
    },
    "trusted": true
   },
   "outputs": [],
   "source": [
    "class PolicyGradientNetwork(nn.Module):\n",
    "\n",
    "    def __init__(self):\n",
    "        super().__init__()\n",
    "        self.fc1 = nn.Linear(8, 16)\n",
    "        self.fc2 = nn.Linear(16, 16)\n",
    "        self.fc3 = nn.Linear(16, 4)\n",
    "\n",
    "    def forward(self, state):\n",
    "        hid = torch.tanh(self.fc1(state))\n",
    "        hid = torch.tanh(hid)\n",
    "        return F.softmax(self.fc3(hid), dim=-1)"
   ]
  },
  {
   "cell_type": "code",
   "execution_count": 41,
   "metadata": {
    "execution": {
     "iopub.execute_input": "2025-07-02T05:45:39.541387Z",
     "iopub.status.busy": "2025-07-02T05:45:39.541010Z",
     "iopub.status.idle": "2025-07-02T05:45:39.548289Z",
     "shell.execute_reply": "2025-07-02T05:45:39.547489Z",
     "shell.execute_reply.started": "2025-07-02T05:45:39.541366Z"
    },
    "trusted": true
   },
   "outputs": [],
   "source": [
    "from torch.optim.lr_scheduler import StepLR\n",
    "class PolicyGradientAgent():\n",
    "    \n",
    "    def __init__(self, network):\n",
    "        self.network = network\n",
    "        self.optimizer = optim.SGD(self.network.parameters(), lr=0.002)\n",
    "        \n",
    "    def forward(self, state):\n",
    "        return self.network(state)\n",
    "    def learn(self, log_probs, rewards):\n",
    "        loss = (-log_probs * rewards).sum() # You don't need to revise this to pass simple baseline (but you can)\n",
    "\n",
    "        self.optimizer.zero_grad()\n",
    "        loss.backward()\n",
    "        self.optimizer.step()\n",
    "        \n",
    "    def sample(self, state):\n",
    "        action_prob = self.network(torch.FloatTensor(state))\n",
    "        action_dist = Categorical(action_prob)\n",
    "        action = action_dist.sample()\n",
    "        log_prob = action_dist.log_prob(action)\n",
    "        return action.item(), log_prob"
   ]
  },
  {
   "cell_type": "code",
   "execution_count": 39,
   "metadata": {
    "execution": {
     "iopub.execute_input": "2025-07-02T05:39:02.201918Z",
     "iopub.status.busy": "2025-07-02T05:39:02.201008Z",
     "iopub.status.idle": "2025-07-02T05:39:02.206308Z",
     "shell.execute_reply": "2025-07-02T05:39:02.205469Z",
     "shell.execute_reply.started": "2025-07-02T05:39:02.201895Z"
    },
    "trusted": true
   },
   "outputs": [],
   "source": [
    "network = PolicyGradientNetwork()\n",
    "agent = PolicyGradientAgent(network)"
   ]
  },
  {
   "cell_type": "code",
   "execution_count": 45,
   "metadata": {
    "execution": {
     "iopub.execute_input": "2025-07-02T05:49:57.577153Z",
     "iopub.status.busy": "2025-07-02T05:49:57.576751Z",
     "iopub.status.idle": "2025-07-02T05:51:34.248792Z",
     "shell.execute_reply": "2025-07-02T05:51:34.247832Z",
     "shell.execute_reply.started": "2025-07-02T05:49:57.577123Z"
    },
    "trusted": true
   },
   "outputs": [
    {
     "data": {
      "application/vnd.jupyter.widget-view+json": {
       "model_id": "0a3fbf7e59a64740bfb72e2449ae089f",
       "version_major": 2,
       "version_minor": 0
      },
      "text/plain": [
       "  0%|          | 0/100 [00:00<?, ?it/s]"
      ]
     },
     "metadata": {},
     "output_type": "display_data"
    }
   ],
   "source": [
    "agent.network.train()  # Switch network into training mode \n",
    "EPISODE_PER_BATCH = 5  # update the agent every 5 episodes\n",
    "NUM_BATCH = 100        # totally update the agent for 500 times\n",
    "GAMMA = 0.99           # discount factor for cumulative rewards\n",
    "\n",
    "avg_total_rewards, avg_final_rewards = [], []\n",
    "\n",
    "prg_bar = tqdm(range(NUM_BATCH))\n",
    "for batch in prg_bar:\n",
    "\n",
    "    log_probs, rewards = [], []\n",
    "    total_rewards, final_rewards = [], []\n",
    "\n",
    "    # collect trajectory\n",
    "    for episode in range(EPISODE_PER_BATCH):\n",
    "        \n",
    "        state = env.reset()\n",
    "        episode_log_probs, episode_rewards = [], []\n",
    "        total_reward, total_step = 0, 0\n",
    "        \n",
    "        while True:\n",
    "            action, log_prob = agent.sample(state)\n",
    "            next_state, reward, done, _ = env.step(action)\n",
    "\n",
    "            episode_log_probs.append(log_prob)\n",
    "            episode_rewards.append(reward)\n",
    "            \n",
    "            state = next_state\n",
    "            total_reward += reward\n",
    "            total_step += 1\n",
    "\n",
    "            if done:\n",
    "                # Calculate discounted cumulative rewards\n",
    "                discounted_rewards = []\n",
    "                running_add = 0\n",
    "                # Reverse calculate discounted rewards\n",
    "                for r in reversed(episode_rewards):\n",
    "                    running_add = r + GAMMA * running_add\n",
    "                    discounted_rewards.insert(0, running_add)\n",
    "                \n",
    "                # Store the episode data\n",
    "                log_probs.extend(episode_log_probs)\n",
    "                rewards.extend(discounted_rewards)\n",
    "                \n",
    "                final_rewards.append(reward)\n",
    "                total_rewards.append(total_reward)\n",
    "                break\n",
    "\n",
    "    # Normalize rewards within the batch\n",
    "    rewards = np.array(rewards)\n",
    "    rewards = (rewards - np.mean(rewards)) / (np.std(rewards) + 1e-9)\n",
    "    \n",
    "    # record training process\n",
    "    avg_total_reward = sum(total_rewards) / len(total_rewards)\n",
    "    avg_final_reward = sum(final_rewards) / len(final_rewards)\n",
    "    avg_total_rewards.append(avg_total_reward)\n",
    "    avg_final_rewards.append(avg_final_reward)\n",
    "    \n",
    "    # Update progress bar description\n",
    "    prg_bar.set_description(f\"Total: {avg_total_reward:4.1f}, Final: {avg_final_reward:4.1f}, Max: {max(total_rewards):4.1f}, Min: {min(total_rewards):4.1f}\")\n",
    "    \n",
    "    # Update agent\n",
    "    agent.learn(\n",
    "        torch.stack(log_probs), \n",
    "        torch.from_numpy(rewards).float()\n",
    "    )"
   ]
  },
  {
   "cell_type": "code",
   "execution_count": 46,
   "metadata": {
    "execution": {
     "iopub.execute_input": "2025-07-02T05:52:25.870938Z",
     "iopub.status.busy": "2025-07-02T05:52:25.870224Z",
     "iopub.status.idle": "2025-07-02T05:52:26.049195Z",
     "shell.execute_reply": "2025-07-02T05:52:26.048426Z",
     "shell.execute_reply.started": "2025-07-02T05:52:25.870915Z"
    },
    "trusted": true
   },
   "outputs": [
    {
     "data": {
      "image/png": "[encoded data removed]",
      "text/plain": [
       "<Figure size 640x480 with 1 Axes>"
      ]
     },
     "metadata": {},
     "output_type": "display_data"
    }
   ],
   "source": [
    "plt.plot(avg_total_rewards)\n",
    "plt.title(\"Total Rewards\")\n",
    "plt.show()"
   ]
  },
  {
   "cell_type": "code",
   "execution_count": 47,
   "metadata": {
    "execution": {
     "iopub.execute_input": "2025-07-02T05:52:49.080782Z",
     "iopub.status.busy": "2025-07-02T05:52:49.079970Z",
     "iopub.status.idle": "2025-07-02T05:52:49.252850Z",
     "shell.execute_reply": "2025-07-02T05:52:49.252098Z",
     "shell.execute_reply.started": "2025-07-02T05:52:49.080758Z"
    },
    "trusted": true
   },
   "outputs": [
    {
     "data": {
      "image/png": "[encoded data removed]",
      "text/plain": [
       "<Figure size 640x480 with 1 Axes>"
      ]
     },
     "metadata": {},
     "output_type": "display_data"
    }
   ],
   "source": [
    "plt.plot(avg_final_rewards)\n",
    "plt.title(\"Final Rewards\")\n",
    "plt.show()"
   ]
  },
  {
   "cell_type": "code",
   "execution_count": 49,
   "metadata": {
    "execution": {
     "iopub.execute_input": "2025-07-02T05:55:30.357647Z",
     "iopub.status.busy": "2025-07-02T05:55:30.356999Z",
     "iopub.status.idle": "2025-07-02T05:58:58.021075Z",
     "shell.execute_reply": "2025-07-02T05:58:58.020176Z",
     "shell.execute_reply.started": "2025-07-02T05:55:30.357620Z"
    },
    "trusted": true
   },
   "outputs": [
    {
     "name": "stdout",
     "output_type": "stream",
     "text": [
      "-26.44063879735451\n"
     ]
    },
    {
     "data": {
      "image/png": "[encoded data removed]",
      "text/plain": [
       "<Figure size 640x480 with 1 Axes>"
      ]
     },
     "metadata": {},
     "output_type": "display_data"
    }
   ],
   "source": [
    "fix(env, seed)\n",
    "agent.network.eval()  # set the network into evaluation mode\n",
    "NUM_OF_TEST = 5 # Do not revise this !!!\n",
    "test_total_reward = []\n",
    "action_list = []\n",
    "for i in range(NUM_OF_TEST):\n",
    "  actions = []\n",
    "  state = env.reset()\n",
    "\n",
    "  img = plt.imshow(env.render(mode='rgb_array'))\n",
    "\n",
    "  total_reward = 0\n",
    "\n",
    "  done = False\n",
    "  while not done:\n",
    "      action, _ = agent.sample(state)\n",
    "      actions.append(action)\n",
    "      state, reward, done, _ = env.step(action)\n",
    "\n",
    "      total_reward += reward\n",
    "\n",
    "      img.set_data(env.render(mode='rgb_array'))\n",
    "      display.display(plt.gcf())\n",
    "      display.clear_output(wait=True)\n",
    "      \n",
    "  print(total_reward)\n",
    "  test_total_reward.append(total_reward)\n",
    "\n",
    "  action_list.append(actions) # save the result of testing \n"
   ]
  },
  {
   "cell_type": "code",
   "execution_count": 50,
   "metadata": {
    "execution": {
     "iopub.execute_input": "2025-07-02T05:59:08.778670Z",
     "iopub.status.busy": "2025-07-02T05:59:08.778020Z",
     "iopub.status.idle": "2025-07-02T05:59:08.783120Z",
     "shell.execute_reply": "2025-07-02T05:59:08.782159Z",
     "shell.execute_reply.started": "2025-07-02T05:59:08.778637Z"
    },
    "trusted": true
   },
   "outputs": [
    {
     "name": "stdout",
     "output_type": "stream",
     "text": [
      "-31.314049877709408\n"
     ]
    }
   ],
   "source": [
    "print(np.mean(test_total_reward))"
   ]
  },
  {
   "cell_type": "code",
   "execution_count": 51,
   "metadata": {
    "collapsed": true,
    "execution": {
     "iopub.execute_input": "2025-07-02T05:59:14.770230Z",
     "iopub.status.busy": "2025-07-02T05:59:14.769819Z",
     "iopub.status.idle": "2025-07-02T05:59:14.793347Z",
     "shell.execute_reply": "2025-07-02T05:59:14.792152Z",
     "shell.execute_reply.started": "2025-07-02T05:59:14.770200Z"
    },
    "jupyter": {
     "outputs_hidden": true
    },
    "trusted": true
   },
   "outputs": [
    {
     "name": "stdout",
     "output_type": "stream",
     "text": [
      "Action list looks like  [[2, 2, 0, 0, 2, 3, 3, 2, 2, 3, 0, 3, 2, 2, 2, 3, 2, 2, 3, 2, 2, 3, 2, 2, 1, 3, 2, 1, 2, 2, 1, 2, 3, 0, 3, 2, 3, 2, 2, 3, 2, 2, 3, 2, 1, 3, 3, 1, 2, 2, 1, 2, 2, 0, 2, 2, 2, 1, 2, 2, 2, 1, 2, 1, 3, 2, 1, 1, 2, 3, 0, 2, 2, 3, 1, 2, 1, 0, 2, 1, 1, 1, 0, 2, 2, 3, 2, 1, 1, 0, 1, 2, 2, 1, 1, 2, 2, 1, 3, 2, 2, 1, 2, 3, 2, 1, 0, 2, 1, 3, 3, 3, 1, 1, 2, 3, 2, 0, 2, 1, 2, 2, 3, 3, 3, 2, 3, 1, 0, 2, 2, 0, 2, 1, 3, 2, 0, 2, 2, 3, 2, 0, 2, 2, 3, 3, 2, 2, 2, 3, 3, 3, 3, 2, 2, 2, 2, 1, 2, 2, 2, 3, 3, 1, 3, 2, 0, 2, 3, 3, 2, 3, 2, 2, 2, 2, 2, 2, 2, 2, 2, 2, 2, 2, 2, 2, 1, 0, 2, 2, 2, 2, 0, 1, 2, 2, 2, 2, 2, 0, 2, 3, 2, 2, 2, 3, 2, 3, 0, 3], [3, 2, 2, 2, 3, 3, 2, 2, 3, 2, 2, 2, 2, 3, 2, 3, 0, 2, 2, 2, 2, 1, 1, 2, 0, 2, 2, 2, 2, 1, 1, 2, 2, 3, 2, 3, 3, 2, 2, 0, 0, 1, 2, 2, 3, 0, 1, 0, 2, 2, 0, 3, 2, 2, 0, 3, 2, 3, 2, 0, 2, 2, 2, 2, 2, 3, 1, 2, 3, 2, 2, 3, 2, 2, 2, 2, 1, 0, 2, 2, 2, 2, 2, 3, 2, 1, 1, 2, 2, 2, 1, 2, 2, 2, 2, 2, 1, 2, 2, 1, 3, 3, 2, 2, 2, 1, 2, 2, 1, 2, 3, 0, 2, 3, 1, 3, 1, 1, 1, 1, 1, 3, 1, 0], [2, 1, 2, 2, 2, 2, 3, 3, 3, 3, 2, 0, 0, 2, 2, 1, 2, 3, 2, 2, 3, 2, 2, 0, 1, 2, 2, 0, 2, 0, 2, 2, 2, 0, 2, 2, 0, 2, 2, 0, 2, 2, 2, 3, 2, 3, 2, 2, 2, 3, 2, 3, 2, 2, 3, 1, 0, 2, 2, 2, 3, 2, 0, 2, 1, 2, 2, 2, 2, 3, 1, 2, 1, 2, 3, 2, 2, 3, 2, 3, 0, 3, 1, 3, 2, 0, 3, 2, 3, 2, 2, 2, 1, 2, 2, 1, 1, 2, 3, 3, 2, 3, 2, 2, 1, 2, 1, 2, 1, 3, 2, 1, 3, 2, 1, 2, 1, 1, 2, 2, 1, 1, 1, 0, 2, 1, 1, 2, 1, 0, 2, 2, 1, 3, 1, 0, 0, 3, 1, 2, 2, 1, 2, 1, 2, 2, 3, 0, 2, 3, 1, 2, 2, 2, 1, 1, 2, 2, 2, 2, 3, 2, 1, 2, 2, 2, 2, 2, 0, 0, 2, 2, 3, 2, 0, 2, 3, 2, 3, 2, 2, 0, 2, 2, 2, 3, 2, 2, 1, 3, 3, 2, 2, 3, 2, 2, 2, 3, 2, 2, 2, 3, 2, 2, 3, 2, 3, 3, 2, 0, 2, 2, 2, 0, 3, 2, 2, 1, 1, 2, 3, 2, 2, 2, 3, 0, 0, 2, 2, 3, 2, 1, 2, 2, 0, 2, 2], [3, 2, 1, 2, 2, 2, 0, 0, 2, 2, 0, 2, 1, 3, 2, 1, 0, 1, 3, 0, 3, 3, 1, 0, 1, 2, 2, 0, 0, 2, 2, 2, 2, 2, 0, 1, 1, 3, 2, 2, 3, 2, 2, 2, 3, 2, 2, 1, 1, 3, 2, 3, 2, 3, 3, 2, 2, 2, 3, 1, 2, 2, 2, 2, 2, 1, 3, 2, 1, 1, 0, 2, 2, 3, 0, 2, 1, 3, 3, 2, 2, 0, 2, 2, 3, 2, 0, 1, 2, 2, 2, 1, 1, 2, 2, 1, 1, 1, 0, 1, 3, 3, 2, 2, 3, 3, 2, 3, 3, 2, 2, 2, 3, 2, 1, 2, 3, 2, 0, 2, 2, 2, 2, 2, 2, 2, 2, 0, 2, 2, 1, 2, 1, 3, 2, 0, 3, 2, 2, 2, 2, 2, 1, 3, 2, 2, 2, 3, 2, 2, 1, 3, 3, 3, 2, 2, 2, 0, 2, 2, 3, 1, 2, 1, 2, 2, 1, 1, 3, 2, 1, 2, 2, 0, 2, 2, 0, 2, 1, 0, 2, 2, 0, 0], [3, 0, 1, 1, 1, 3, 3, 3, 2, 2, 1, 1, 3, 1, 3, 2, 1, 1, 1, 2, 3, 3, 1, 2, 2, 3, 2, 3, 3, 2, 3, 2, 2, 2, 2, 1, 0, 2, 2, 1, 2, 2, 3, 1, 0, 2, 0, 2, 2, 2, 2, 3, 3, 2, 3, 0, 2, 3, 2, 2, 2, 3, 2, 2, 2, 2, 1, 2, 2, 3, 0, 3, 2, 0, 0, 2, 1, 3, 1, 2, 0, 2, 2, 3, 2, 2, 1, 2, 0, 3, 0, 2, 2, 2, 2, 0, 2, 2, 2, 2, 3, 2, 2, 1, 0, 2, 1, 2, 1, 1, 2, 3, 2, 2, 1, 1, 2, 1, 1, 1, 2, 2, 1, 1, 2, 1, 1, 3, 0, 1, 1, 2, 0, 2, 2, 3, 3, 2, 3, 2, 3, 2, 2, 0, 3, 0, 0, 2, 0, 2, 2, 2, 2, 1, 1, 2, 2, 1, 2, 0]]\n"
     ]
    },
    {
     "ename": "ValueError",
     "evalue": "setting an array element with a sequence. The requested array has an inhomogeneous shape after 1 dimensions. The detected shape was (5,) + inhomogeneous part.",
     "output_type": "error",
     "traceback": [
      "\u001b[0;31m---------------------------------------------------------------------------\u001b[0m",
      "\u001b[0;31mAttributeError\u001b[0m                            Traceback (most recent call last)",
      "\u001b[0;32m/usr/local/lib/python3.11/dist-packages/numpy/core/fromnumeric.py\u001b[0m in \u001b[0;36mshape\u001b[0;34m(a)\u001b[0m\n\u001b[1;32m   2021\u001b[0m     \u001b[0;32mtry\u001b[0m\u001b[0;34m:\u001b[0m\u001b[0;34m\u001b[0m\u001b[0;34m\u001b[0m\u001b[0m\n\u001b[0;32m-> 2022\u001b[0;31m         \u001b[0mresult\u001b[0m \u001b[0;34m=\u001b[0m \u001b[0ma\u001b[0m\u001b[0;34m.\u001b[0m\u001b[0mshape\u001b[0m\u001b[0;34m\u001b[0m\u001b[0;34m\u001b[0m\u001b[0m\n\u001b[0m\u001b[1;32m   2023\u001b[0m     \u001b[0;32mexcept\u001b[0m \u001b[0mAttributeError\u001b[0m\u001b[0;34m:\u001b[0m\u001b[0;34m\u001b[0m\u001b[0;34m\u001b[0m\u001b[0m\n",
      "\u001b[0;31mAttributeError\u001b[0m: 'list' object has no attribute 'shape'",
      "\nDuring handling of the above exception, another exception occurred:\n",
      "\u001b[0;31mValueError\u001b[0m                                Traceback (most recent call last)",
      "\u001b[0;32m/tmp/ipykernel_35/78380488.py\u001b[0m in \u001b[0;36m<cell line: 0>\u001b[0;34m()\u001b[0m\n\u001b[1;32m      1\u001b[0m \u001b[0mprint\u001b[0m\u001b[0;34m(\u001b[0m\u001b[0;34m\"Action list looks like \"\u001b[0m\u001b[0;34m,\u001b[0m \u001b[0maction_list\u001b[0m\u001b[0;34m)\u001b[0m\u001b[0;34m\u001b[0m\u001b[0;34m\u001b[0m\u001b[0m\n\u001b[0;32m----> 2\u001b[0;31m \u001b[0mprint\u001b[0m\u001b[0;34m(\u001b[0m\u001b[0;34m\"Action list's shape looks like \"\u001b[0m\u001b[0;34m,\u001b[0m \u001b[0mnp\u001b[0m\u001b[0;34m.\u001b[0m\u001b[0mshape\u001b[0m\u001b[0;34m(\u001b[0m\u001b[0maction_list\u001b[0m\u001b[0;34m)\u001b[0m\u001b[0;34m)\u001b[0m\u001b[0;34m\u001b[0m\u001b[0;34m\u001b[0m\u001b[0m\n\u001b[0m",
      "\u001b[0;32m/usr/local/lib/python3.11/dist-packages/numpy/core/fromnumeric.py\u001b[0m in \u001b[0;36mshape\u001b[0;34m(a)\u001b[0m\n\u001b[1;32m   2022\u001b[0m         \u001b[0mresult\u001b[0m \u001b[0;34m=\u001b[0m \u001b[0ma\u001b[0m\u001b[0;34m.\u001b[0m\u001b[0mshape\u001b[0m\u001b[0;34m\u001b[0m\u001b[0;34m\u001b[0m\u001b[0m\n\u001b[1;32m   2023\u001b[0m     \u001b[0;32mexcept\u001b[0m \u001b[0mAttributeError\u001b[0m\u001b[0;34m:\u001b[0m\u001b[0;34m\u001b[0m\u001b[0;34m\u001b[0m\u001b[0m\n\u001b[0;32m-> 2024\u001b[0;31m         \u001b[0mresult\u001b[0m \u001b[0;34m=\u001b[0m \u001b[0masarray\u001b[0m\u001b[0;34m(\u001b[0m\u001b[0ma\u001b[0m\u001b[0;34m)\u001b[0m\u001b[0;34m.\u001b[0m\u001b[0mshape\u001b[0m\u001b[0;34m\u001b[0m\u001b[0;34m\u001b[0m\u001b[0m\n\u001b[0m\u001b[1;32m   2025\u001b[0m     \u001b[0;32mreturn\u001b[0m \u001b[0mresult\u001b[0m\u001b[0;34m\u001b[0m\u001b[0;34m\u001b[0m\u001b[0m\n\u001b[1;32m   2026\u001b[0m \u001b[0;34m\u001b[0m\u001b[0m\n",
      "\u001b[0;31mValueError\u001b[0m: setting an array element with a sequence. The requested array has an inhomogeneous shape after 1 dimensions. The detected shape was (5,) + inhomogeneous part."
     ]
    }
   ],
   "source": [
    "print(\"Action list looks like \", action_list)\n",
    "print(\"Action list's shape looks like \", np.shape(action_list))"
   ]
  },
  {
   "cell_type": "code",
   "execution_count": 52,
   "metadata": {
    "execution": {
     "iopub.execute_input": "2025-07-02T05:59:22.747153Z",
     "iopub.status.busy": "2025-07-02T05:59:22.746897Z",
     "iopub.status.idle": "2025-07-02T05:59:22.752459Z",
     "shell.execute_reply": "2025-07-02T05:59:22.751488Z",
     "shell.execute_reply.started": "2025-07-02T05:59:22.747137Z"
    },
    "trusted": true
   },
   "outputs": [
    {
     "name": "stdout",
     "output_type": "stream",
     "text": [
      "{2: 471, 0: 101, 3: 182, 1: 161}\n"
     ]
    }
   ],
   "source": [
    "distribution = {}\n",
    "for actions in action_list:\n",
    "  for action in actions:\n",
    "    if action not in distribution.keys():\n",
    "      distribution[action] = 1\n",
    "    else:\n",
    "      distribution[action] += 1\n",
    "print(distribution)"
   ]
  },
  {
   "cell_type": "code",
   "execution_count": 57,
   "metadata": {
    "execution": {
     "iopub.execute_input": "2025-07-02T06:01:37.923242Z",
     "iopub.status.busy": "2025-07-02T06:01:37.922611Z",
     "iopub.status.idle": "2025-07-02T06:01:37.928475Z",
     "shell.execute_reply": "2025-07-02T06:01:37.927618Z",
     "shell.execute_reply.started": "2025-07-02T06:01:37.923217Z"
    },
    "trusted": true
   },
   "outputs": [],
   "source": [
    "import numpy as np\n",
    "\n",
    "PATH = \"Action_List.npy\"\n",
    "# 创建对象数组来存储不同长度的列表\n",
    "action_array = np.empty(len(action_list), dtype=object)\n",
    "for i, sublist in enumerate(action_list):\n",
    "    action_array[i] = sublist\n",
    "\n",
    "np.save(PATH, action_array)"
   ]
  },
  {
   "cell_type": "code",
   "execution_count": 59,
   "metadata": {
    "execution": {
     "iopub.execute_input": "2025-07-02T06:03:01.111061Z",
     "iopub.status.busy": "2025-07-02T06:03:01.110765Z",
     "iopub.status.idle": "2025-07-02T06:03:01.134894Z",
     "shell.execute_reply": "2025-07-02T06:03:01.134129Z",
     "shell.execute_reply.started": "2025-07-02T06:03:01.111042Z"
    },
    "trusted": true
   },
   "outputs": [
    {
     "name": "stdout",
     "output_type": "stream",
     "text": [
      "  adding: Action_List.npy (deflated 71%)\n"
     ]
    },
    {
     "data": {
      "text/html": [
       "<a href='Action_List.npy.zip' target='_blank'>Action_List.npy.zip</a><br>"
      ],
      "text/plain": [
       "/kaggle/working/Action_List.npy.zip"
      ]
     },
     "execution_count": 59,
     "metadata": {},
     "output_type": "execute_result"
    }
   ],
   "source": [
    "import os\n",
    "os.system(f'zip {PATH}.zip {PATH}')  # 先压缩（可选）\n",
    "from IPython.display import FileLink\n",
    "FileLink(f'{PATH}.zip')"
   ]
  },
  {
   "cell_type": "code",
   "execution_count": 60,
   "metadata": {
    "execution": {
     "iopub.execute_input": "2025-07-02T06:03:18.042974Z",
     "iopub.status.busy": "2025-07-02T06:03:18.042414Z",
     "iopub.status.idle": "2025-07-02T06:03:18.762007Z",
     "shell.execute_reply": "2025-07-02T06:03:18.761164Z",
     "shell.execute_reply.started": "2025-07-02T06:03:18.042939Z"
    },
    "trusted": true
   },
   "outputs": [
    {
     "name": "stderr",
     "output_type": "stream",
     "text": [
      "/usr/local/lib/python3.11/dist-packages/gym/core.py:256: DeprecationWarning: \u001b[33mWARN: Function `env.seed(seed)` is marked as deprecated and will be removed in the future. Please use `env.reset(seed=seed)` instead.\u001b[0m\n",
      "  deprecation(\n",
      "/usr/local/lib/python3.11/dist-packages/gym/core.py:43: DeprecationWarning: \u001b[33mWARN: The argument mode in render method is deprecated; use render_mode during environment initialization instead.\n",
      "See here for more information: https://www.gymlibrary.ml/content/api/\u001b[0m\n",
      "  deprecation(\n"
     ]
    },
    {
     "name": "stdout",
     "output_type": "stream",
     "text": [
      "Your reward is : -60.71\n",
      "Your reward is : -20.57\n",
      "Your reward is : -36.35\n",
      "Your reward is : -12.50\n",
      "Your reward is : -26.44\n"
     ]
    },
    {
     "data": {
      "image/png": "[encoded data removed]",
      "text/plain": [
       "<Figure size 640x480 with 1 Axes>"
      ]
     },
     "metadata": {},
     "output_type": "display_data"
    }
   ],
   "source": [
    "action_list = np.load(PATH,allow_pickle=True) # The action list you upload\n",
    "seed = 2023 # Do not revise this\n",
    "fix(env, seed)\n",
    "\n",
    "agent.network.eval()  # set network to evaluation mode\n",
    "\n",
    "test_total_reward = []\n",
    "if len(action_list) != 5:\n",
    "  print(\"Wrong format of file !!!\")\n",
    "  exit(0)\n",
    "for actions in action_list:\n",
    "  state = env.reset()\n",
    "  img = plt.imshow(env.render(mode='rgb_array'))\n",
    "\n",
    "  total_reward = 0\n",
    "\n",
    "  done = False\n",
    "\n",
    "  for action in actions:\n",
    "  \n",
    "      state, reward, done, _ = env.step(action)\n",
    "      total_reward += reward\n",
    "      if done:\n",
    "        break\n",
    "\n",
    "  print(f\"Your reward is : %.2f\"%total_reward)\n",
    "  test_total_reward.append(total_reward)"
   ]
  },
  {
   "cell_type": "code",
   "execution_count": 61,
   "metadata": {
    "execution": {
     "iopub.execute_input": "2025-07-02T06:03:34.975244Z",
     "iopub.status.busy": "2025-07-02T06:03:34.974973Z",
     "iopub.status.idle": "2025-07-02T06:03:34.979833Z",
     "shell.execute_reply": "2025-07-02T06:03:34.979002Z",
     "shell.execute_reply.started": "2025-07-02T06:03:34.975225Z"
    },
    "trusted": true
   },
   "outputs": [
    {
     "name": "stdout",
     "output_type": "stream",
     "text": [
      "Your final reward is : -31.31\n"
     ]
    }
   ],
   "source": [
    "print(f\"Your final reward is : %.2f\"%np.mean(test_total_reward))"
   ]
  }
 ],
 "metadata": {
  "kaggle": {
   "accelerator": "nvidiaTeslaT4",
   "dataSources": [],
   "dockerImageVersionId": 31041,
   "isGpuEnabled": true,
   "isInternetEnabled": true,
   "language": "python",
   "sourceType": "notebook"
  },
  "kernelspec": {
   "display_name": "Python 3",
   "language": "python",
   "name": "python3"
  },
  "language_info": {
   "codemirror_mode": {
    "name": "ipython",
    "version": 3
   },
   "file_extension": ".py",
   "mimetype": "text/x-python",
   "name": "python",
   "nbconvert_exporter": "python",
   "pygments_lexer": "ipython3",
   "version": "3.11.11"
  }
 },
 "nbformat": 4,
 "nbformat_minor": 4
}
